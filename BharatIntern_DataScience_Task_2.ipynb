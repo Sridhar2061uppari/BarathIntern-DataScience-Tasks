{
  "nbformat": 4,
  "nbformat_minor": 0,
  "metadata": {
    "colab": {
      "private_outputs": true,
      "provenance": []
    },
    "kernelspec": {
      "name": "python3",
      "display_name": "Python 3"
    },
    "language_info": {
      "name": "python"
    }
  },
  "cells": [
    {
      "cell_type": "markdown",
      "source": [
        "# BHARAT INTERN\n",
        "# Data Science Internship\n",
        "# Name:UPPARI SRIDHAR\n",
        "# TASK-2:Titanic Classification"
      ],
      "metadata": {
        "id": "Ru9sAvXGTURy"
      }
    },
    {
      "cell_type": "markdown",
      "source": [
        "# Importing Libraries"
      ],
      "metadata": {
        "id": "ytqpeYlo5QcM"
      }
    },
    {
      "cell_type": "code",
      "source": [
        "import pandas as pd\n",
        "import numpy as np\n",
        "import matplotlib.pyplot as plt\n",
        "import seaborn as sns\n",
        "from sklearn.linear_model import LogisticRegression\n",
        "from sklearn.metrics import confusion_matrix"
      ],
      "metadata": {
        "id": "ag57UIE2TY9f"
      },
      "execution_count": null,
      "outputs": []
    },
    {
      "cell_type": "markdown",
      "source": [
        "# Importing Dataset"
      ],
      "metadata": {
        "id": "u24HVrYW5gU1"
      }
    },
    {
      "cell_type": "code",
      "source": [
        "df = pd.read_csv('/content/Titanic-Dataset.csv')"
      ],
      "metadata": {
        "id": "DPuIVrheTZFD"
      },
      "execution_count": null,
      "outputs": []
    },
    {
      "cell_type": "code",
      "source": [
        "df.head()"
      ],
      "metadata": {
        "id": "rKUnZI8_TZIy"
      },
      "execution_count": null,
      "outputs": []
    },
    {
      "cell_type": "code",
      "source": [
        "df.tail()"
      ],
      "metadata": {
        "id": "17Qvu-PS5m_0"
      },
      "execution_count": null,
      "outputs": []
    },
    {
      "cell_type": "code",
      "source": [
        "df.shape"
      ],
      "metadata": {
        "id": "DHeY-hK05qtB"
      },
      "execution_count": null,
      "outputs": []
    },
    {
      "cell_type": "code",
      "source": [
        "df.info()"
      ],
      "metadata": {
        "id": "GTeVj-IQ5qvm"
      },
      "execution_count": null,
      "outputs": []
    },
    {
      "cell_type": "code",
      "source": [
        "df.isnull().sum()"
      ],
      "metadata": {
        "id": "FtsrL1D95-H2"
      },
      "execution_count": null,
      "outputs": []
    },
    {
      "cell_type": "code",
      "source": [
        "sns.heatmap(df.isnull(), annot=True, cmap='Greens')"
      ],
      "metadata": {
        "id": "EKmCVypB5q2L"
      },
      "execution_count": null,
      "outputs": []
    },
    {
      "cell_type": "markdown",
      "source": [
        "# Age % of null values"
      ],
      "metadata": {
        "id": "egbfAqte9hxR"
      }
    },
    {
      "cell_type": "code",
      "source": [
        "(df.Age.isnull().sum()/len(df.Age))*100"
      ],
      "metadata": {
        "id": "daFpyBba5q6c"
      },
      "execution_count": null,
      "outputs": []
    },
    {
      "cell_type": "code",
      "source": [
        "(df.Cabin.isnull().sum()/len(df.Cabin))*100"
      ],
      "metadata": {
        "id": "1G69pBjM5q7q"
      },
      "execution_count": null,
      "outputs": []
    },
    {
      "cell_type": "code",
      "source": [
        "df.Cabin.unique()"
      ],
      "metadata": {
        "id": "ZSqIwjF15q84"
      },
      "execution_count": null,
      "outputs": []
    },
    {
      "cell_type": "code",
      "source": [
        "# Droping the Cabin Column\n",
        "df.drop('Cabin',axis=1, inplace=True)"
      ],
      "metadata": {
        "id": "FweMAVZS5rAj"
      },
      "execution_count": null,
      "outputs": []
    },
    {
      "cell_type": "code",
      "source": [
        "df.head()"
      ],
      "metadata": {
        "id": "YoS4DWCi94bq"
      },
      "execution_count": null,
      "outputs": []
    },
    {
      "cell_type": "code",
      "source": [
        "df.isnull().sum()"
      ],
      "metadata": {
        "id": "M7Ynj-4A94ib"
      },
      "execution_count": null,
      "outputs": []
    },
    {
      "cell_type": "code",
      "source": [
        "df.Embarked.unique()"
      ],
      "metadata": {
        "id": "RaufzkSB94lS"
      },
      "execution_count": null,
      "outputs": []
    },
    {
      "cell_type": "code",
      "source": [
        "# Displaying the null or NaN values of Embarked column\n",
        "df[df.Embarked.isnull()]"
      ],
      "metadata": {
        "id": "UqdoBLpI94pf"
      },
      "execution_count": null,
      "outputs": []
    },
    {
      "cell_type": "code",
      "source": [
        "# Droping the rows where Embarked is NaN\n",
        "df.drop([61],inplace=True)"
      ],
      "metadata": {
        "id": "PklATpxJ94sM"
      },
      "execution_count": null,
      "outputs": []
    },
    {
      "cell_type": "code",
      "source": [
        "df.drop([829],inplace=True)"
      ],
      "metadata": {
        "id": "yB6I7sXL94vj"
      },
      "execution_count": null,
      "outputs": []
    },
    {
      "cell_type": "code",
      "source": [
        "df[df.Embarked.isnull()]"
      ],
      "metadata": {
        "id": "e7dFxNVc94zm"
      },
      "execution_count": null,
      "outputs": []
    },
    {
      "cell_type": "code",
      "source": [
        "df.isnull().sum()"
      ],
      "metadata": {
        "id": "uGSkkWdVA_65"
      },
      "execution_count": null,
      "outputs": []
    },
    {
      "cell_type": "code",
      "source": [
        "# Mean of the Age column\n",
        "df.Age.mean()"
      ],
      "metadata": {
        "id": "jxI-7TdSBACz"
      },
      "execution_count": null,
      "outputs": []
    },
    {
      "cell_type": "code",
      "source": [
        "# Median of the Age column\n",
        "df.Age.median()"
      ],
      "metadata": {
        "id": "rwNiBlf7BAGY"
      },
      "execution_count": null,
      "outputs": []
    },
    {
      "cell_type": "code",
      "source": [
        "# Mode of the Age column\n",
        "df.Age.mode()"
      ],
      "metadata": {
        "id": "Yv4vNtf6BKql"
      },
      "execution_count": null,
      "outputs": []
    },
    {
      "cell_type": "code",
      "source": [
        "df.shape"
      ],
      "metadata": {
        "id": "rLXKjwtwBTxG"
      },
      "execution_count": null,
      "outputs": []
    },
    {
      "cell_type": "code",
      "source": [
        "# Filling all the null values of Age column with its Median value\n",
        "df.Age.fillna(value=df.Age.median(),inplace=True)"
      ],
      "metadata": {
        "id": "qGFYeJUtBTzY"
      },
      "execution_count": null,
      "outputs": []
    },
    {
      "cell_type": "code",
      "source": [
        "df.isnull().sum()"
      ],
      "metadata": {
        "id": "-whJlQfRBT1g"
      },
      "execution_count": null,
      "outputs": []
    },
    {
      "cell_type": "code",
      "source": [
        "# Ploting a graph : survival V/S non-survival\n",
        "df.Survived.value_counts().plot.bar(df.Survived)\n",
        "plt.grid()"
      ],
      "metadata": {
        "id": "nwdRhMjZBT3p"
      },
      "execution_count": null,
      "outputs": []
    },
    {
      "cell_type": "code",
      "source": [
        "sns.countplot(x='Survived', data=df, hue='Sex')"
      ],
      "metadata": {
        "id": "8W2hYsjsBT6R"
      },
      "execution_count": null,
      "outputs": []
    },
    {
      "cell_type": "code",
      "source": [
        "sns.set_style('whitegrid')\n",
        "sns.countplot(x='Survived',hue='Pclass',data=df,palette='rainbow')"
      ],
      "metadata": {
        "id": "-yHbkzXPBT8Z"
      },
      "execution_count": null,
      "outputs": []
    },
    {
      "cell_type": "code",
      "source": [
        "df['Age'].hist(bins=30,color='darkred',alpha=0.7)"
      ],
      "metadata": {
        "id": "umEptgEZBT-Z"
      },
      "execution_count": null,
      "outputs": []
    },
    {
      "cell_type": "code",
      "source": [
        "sns.countplot(x='SibSp',data=df)"
      ],
      "metadata": {
        "id": "W_zOWNOiBUA4"
      },
      "execution_count": null,
      "outputs": []
    },
    {
      "cell_type": "code",
      "source": [
        "df['Fare'].hist(color='green',bins=40,figsize=(8,4))"
      ],
      "metadata": {
        "id": "kP8Zvlq3BUDl"
      },
      "execution_count": null,
      "outputs": []
    },
    {
      "cell_type": "markdown",
      "source": [
        "# Converting Categorical Features"
      ],
      "metadata": {
        "id": "Evx3yk-UEFzx"
      }
    },
    {
      "cell_type": "code",
      "source": [
        "df.info()"
      ],
      "metadata": {
        "id": "0_trAitvEIUr"
      },
      "execution_count": null,
      "outputs": []
    },
    {
      "cell_type": "code",
      "source": [
        "sex = pd.get_dummies(df['Sex'],drop_first=True)\n",
        "embark = pd.get_dummies(df['Embarked'],drop_first=True)"
      ],
      "metadata": {
        "id": "dftE57p4EIXg"
      },
      "execution_count": null,
      "outputs": []
    },
    {
      "cell_type": "code",
      "source": [
        "df.drop(['Sex','Embarked','Name','Ticket'],axis=1,inplace=True)"
      ],
      "metadata": {
        "id": "f7to3yofEIbC"
      },
      "execution_count": null,
      "outputs": []
    },
    {
      "cell_type": "code",
      "source": [
        "df = pd.concat([df,sex,embark],axis=1)"
      ],
      "metadata": {
        "id": "OeTVAdi_El3S"
      },
      "execution_count": null,
      "outputs": []
    },
    {
      "cell_type": "code",
      "source": [
        "df.head()"
      ],
      "metadata": {
        "id": "2s_nb83pEmAj"
      },
      "execution_count": null,
      "outputs": []
    },
    {
      "cell_type": "code",
      "source": [
        "# Converting the Float Age values to Integer\n",
        "df.Age = df.Age.astype(int)"
      ],
      "metadata": {
        "id": "B6rF3CqgEzP6"
      },
      "execution_count": null,
      "outputs": []
    },
    {
      "cell_type": "code",
      "source": [
        "df.head()"
      ],
      "metadata": {
        "id": "Udvx-EGUE5rD"
      },
      "execution_count": null,
      "outputs": []
    },
    {
      "cell_type": "markdown",
      "source": [
        "# Building a Logistic Regression model"
      ],
      "metadata": {
        "id": "3SqAIhBaDbjL"
      }
    },
    {
      "cell_type": "code",
      "source": [
        "from sklearn.model_selection import train_test_split"
      ],
      "metadata": {
        "id": "rFDdpRoBDGai"
      },
      "execution_count": null,
      "outputs": []
    },
    {
      "cell_type": "code",
      "source": [
        "X_train, X_test, y_train, y_test = train_test_split(df.drop(['Survived'],axis=1),df['Survived'], test_size=0.10,random_state=101)"
      ],
      "metadata": {
        "id": "_Ws5nIOWDGga"
      },
      "execution_count": null,
      "outputs": []
    },
    {
      "cell_type": "code",
      "source": [
        "#Training and Predicting\n",
        "from sklearn.linear_model import LogisticRegression"
      ],
      "metadata": {
        "id": "o_oWV3W8DGiv"
      },
      "execution_count": null,
      "outputs": []
    },
    {
      "cell_type": "code",
      "source": [
        "logmodel = LogisticRegression()\n",
        "logmodel.fit(X_train,y_train)"
      ],
      "metadata": {
        "id": "hrWNaB-eDGl-"
      },
      "execution_count": null,
      "outputs": []
    },
    {
      "cell_type": "code",
      "source": [
        "predictions = logmodel.predict(X_test)\n",
        "X_test.head()"
      ],
      "metadata": {
        "id": "yrOl1CRoDGuX"
      },
      "execution_count": null,
      "outputs": []
    },
    {
      "cell_type": "code",
      "source": [
        "predictions"
      ],
      "metadata": {
        "id": "wkXza4-PDGwp"
      },
      "execution_count": null,
      "outputs": []
    },
    {
      "cell_type": "code",
      "source": [
        "from sklearn.metrics import classification_report,confusion_matrix"
      ],
      "metadata": {
        "id": "l54uVUoiDGz-"
      },
      "execution_count": null,
      "outputs": []
    },
    {
      "cell_type": "code",
      "source": [
        "print(confusion_matrix(y_test,predictions))"
      ],
      "metadata": {
        "id": "yld0J4ufGKza"
      },
      "execution_count": null,
      "outputs": []
    },
    {
      "cell_type": "code",
      "source": [
        "print(classification_report(y_test,predictions))"
      ],
      "metadata": {
        "id": "0ZhQKg4xGK14"
      },
      "execution_count": null,
      "outputs": []
    }
  ]
}